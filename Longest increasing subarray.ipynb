{
 "cells": [
  {
   "cell_type": "code",
   "execution_count": 37,
   "metadata": {},
   "outputs": [],
   "source": [
    "def lng(n,ln):\n",
    "    \n",
    "    m=1\n",
    "    l=1\n",
    "    maxIndex = 0\n",
    "    \n",
    "    for i in range(1,ln):\n",
    "        \n",
    "        if n[i]>n[i-1]:\n",
    "            l += 1\n",
    "        else:\n",
    "            if m<l:\n",
    "                m = l\n",
    "                maxIndex = i - m\n",
    "            l=1\n",
    "        \n",
    "    if m<l:\n",
    "        m = l\n",
    "        maxIndex = n-m\n",
    "        \n",
    "    for j in range(maxIndex, (m+maxIndex)):\n",
    "        print(n[j],end=\" \")\n",
    "        \n",
    "  \n",
    "    \n",
    "        "
   ]
  },
  {
   "cell_type": "code",
   "execution_count": 38,
   "metadata": {},
   "outputs": [
    {
     "name": "stdout",
     "output_type": "stream",
     "text": [
      "2 10 None\n"
     ]
    }
   ],
   "source": [
    "n=[9,4,2,10,7,8,8,1,9]\n",
    "ln = len(n)\n",
    "print(lng([9,4,2,10,7,8,8,1,9],ln))"
   ]
  },
  {
   "cell_type": "code",
   "execution_count": null,
   "metadata": {
    "collapsed": true
   },
   "outputs": [],
   "source": []
  },
  {
   "cell_type": "code",
   "execution_count": 19,
   "metadata": {},
   "outputs": [
    {
     "name": "stdout",
     "output_type": "stream",
     "text": [
      "Length =  5\n"
     ]
    }
   ],
   "source": [
    "# Python 3 implementation to find the length of  \n",
    "# longest increasing contiguous subarray \n",
    "  \n",
    "   \n",
    "# function to find the length of longest  \n",
    "# increasing contiguous subarray \n",
    "def lenOfLongIncSubArr(arr, n) : \n",
    "  \n",
    "    # 'max' to store the length of longest \n",
    "    # increasing subarray \n",
    "    # 'len' to store the lengths of longest \n",
    "    # increasing subarray at diiferent  \n",
    "    # instants of time \n",
    "    m = 1 \n",
    "    l = 1 \n",
    "       \n",
    "    # traverse the array from the 2nd element \n",
    "    for i in range(1, n) : \n",
    "  \n",
    "        # if current element if greater than previous \n",
    "        # element, then this element helps in building \n",
    "        # up the previous increasing subarray encountered \n",
    "        # so far \n",
    "        if (arr[i] > arr[i-1]) : \n",
    "            l =l + 1 \n",
    "        else : \n",
    "  \n",
    "            # check if 'max' length is less than the length \n",
    "            # of the current increasing subarray. If true,  \n",
    "            # then update 'max' \n",
    "            if (m < l)  : \n",
    "                m = l  \n",
    "  \n",
    "            # reset 'len' to 1 as from this element \n",
    "            # again the length of the new increasing \n",
    "            # subarray is being calculated     \n",
    "            l = 1 \n",
    "          \n",
    "          \n",
    "    # comparing the length of the last \n",
    "    # increasing subarray with 'max' \n",
    "    if (m < l) : \n",
    "        m = l \n",
    "       \n",
    "    # required maximum length \n",
    "    return m \n",
    "  \n",
    "# Driver program to test above \n",
    "  \n",
    "arr = [5, 6, 3, 5, 7, 8, 9, 1, 2] \n",
    "n = len(arr) \n",
    "print(\"Length = \", lenOfLongIncSubArr(arr, n)) \n",
    "  \n",
    "  \n",
    "# This code is contributed \n",
    "# by Nikita Tiwari. "
   ]
  },
  {
   "cell_type": "code",
   "execution_count": 28,
   "metadata": {},
   "outputs": [
    {
     "name": "stdout",
     "output_type": "stream",
     "text": [
      "3 5 7 8 9 "
     ]
    }
   ],
   "source": [
    "# Python 3 implementation to find the length of  \n",
    "# longest increasing contiguous subarray \n",
    "  \n",
    "  \n",
    "# function to find the length of longest increasing  \n",
    "# contiguous subarray \n",
    "def printLogestIncSubArr( arr, n) : \n",
    "  \n",
    "    # 'max' to store the length of longest \n",
    "    # increasing subarray \n",
    "    # 'len' to store the lengths of longest \n",
    "    # increasing subarray at diiferent  \n",
    "    # instants of time \n",
    "    m = 1\n",
    "    l = 1\n",
    "    maxIndex = 0\n",
    "       \n",
    "    # traverse the array from the 2nd element \n",
    "    for i in range(1, n) : \n",
    "  \n",
    "        # if current element if greater than previous \n",
    "        # element, then this element helps in building \n",
    "        # up the previous increasing subarray  \n",
    "        # encountered so far \n",
    "        if (arr[i] > arr[i-1]) : \n",
    "            l =l + 1\n",
    "        else : \n",
    "  \n",
    "            # check if 'max' length is less than the length \n",
    "            # of the current increasing subarray. If true,  \n",
    "            # then update 'max' \n",
    "            if (m < l)  : \n",
    "                m = l  \n",
    "  \n",
    "                # index assign the starting index of  \n",
    "                # longest increasing contiguous subarray.    \n",
    "                maxIndex = i - m \n",
    "                    \n",
    "            # reset 'len' to 1 as from this element \n",
    "            # again the length of the new increasing \n",
    "            # subarray is being calculated     \n",
    "            l = 1    \n",
    "          \n",
    "          \n",
    "    # comparing the length of the last \n",
    "    # increasing subarray with 'max' \n",
    "    if (m < l) : \n",
    "        m = l \n",
    "        maxIndex = n - m \n",
    "      \n",
    "    # Print the elements of longest \n",
    "    # increasing contiguous subarray.  \n",
    "    for i in range(maxIndex, (m+maxIndex)) : \n",
    "        print(arr[i] , end=\" \") \n",
    "          \n",
    "# Driver program to test above \n",
    "arr = [5, 6, 3, 5, 7, 8, 9, 1, 2] \n",
    "n = len(arr) \n",
    "printLogestIncSubArr(arr, n) \n",
    "      "
   ]
  },
  {
   "cell_type": "code",
   "execution_count": null,
   "metadata": {
    "collapsed": true
   },
   "outputs": [],
   "source": []
  }
 ],
 "metadata": {
  "kernelspec": {
   "display_name": "Python 3",
   "language": "python",
   "name": "python3"
  },
  "language_info": {
   "codemirror_mode": {
    "name": "ipython",
    "version": 3
   },
   "file_extension": ".py",
   "mimetype": "text/x-python",
   "name": "python",
   "nbconvert_exporter": "python",
   "pygments_lexer": "ipython3",
   "version": "3.6.8"
  }
 },
 "nbformat": 4,
 "nbformat_minor": 2
}
